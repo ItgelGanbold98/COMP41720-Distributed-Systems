{
 "cells": [
  {
   "cell_type": "code",
   "execution_count": 53,
   "id": "0aa56f9c",
   "metadata": {
    "ExecuteTime": {
     "end_time": "2023-10-18T09:49:33.460306Z",
     "start_time": "2023-10-18T09:49:33.449768Z"
    }
   },
   "outputs": [
    {
     "data": {
      "text/plain": [
       "True"
      ]
     },
     "execution_count": 53,
     "metadata": {},
     "output_type": "execute_result"
    }
   ],
   "source": [
    "type(10) == int"
   ]
  },
  {
   "cell_type": "code",
   "execution_count": null,
   "id": "6714e2af",
   "metadata": {},
   "outputs": [],
   "source": []
  }
 ],
 "metadata": {
  "kernelspec": {
   "display_name": "Python 3 (ipykernel)",
   "language": "python",
   "name": "python3"
  },
  "language_info": {
   "codemirror_mode": {
    "name": "ipython",
    "version": 3
   },
   "file_extension": ".py",
   "mimetype": "text/x-python",
   "name": "python",
   "nbconvert_exporter": "python",
   "pygments_lexer": "ipython3",
   "version": "3.9.16"
  }
 },
 "nbformat": 4,
 "nbformat_minor": 5
}
